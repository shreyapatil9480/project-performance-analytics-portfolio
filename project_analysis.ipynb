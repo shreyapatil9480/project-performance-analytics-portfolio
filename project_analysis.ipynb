{
 "cells": [
  {
   "cell_type": "markdown",
   "id": "45a87c37",
   "metadata": {},
   "source": [
    "\n",
    "# Project Performance Analysis\n",
    "\n",
    "This notebook explores a synthetic dataset of project performance metrics for various programs.\n",
    "The dataset includes planned vs. actual durations and budgets, team sizes, stakeholder satisfaction, and a binary success outcome.\n",
    "We'll perform exploratory data analysis and build predictive models to estimate the likelihood of project success.\n"
   ]
  },
  {
   "cell_type": "code",
   "execution_count": null,
   "id": "731a2077",
   "metadata": {},
   "outputs": [],
   "source": [
    "\n",
    "import pandas as pd\n",
    "import numpy as np\n",
    "import matplotlib.pyplot as plt\n",
    "import seaborn as sns\n",
    "from sklearn.model_selection import train_test_split\n",
    "from sklearn.preprocessing import StandardScaler\n",
    "from sklearn.linear_model import LogisticRegression\n",
    "from sklearn.metrics import accuracy_score, classification_report, confusion_matrix\n",
    "\n",
    "# Load the dataset\n",
    "file_path = 'synthetic_project_data.csv'\n",
    "df = pd.read_csv(file_path)\n",
    "\n",
    "# Display first few rows\n",
    "df.head()\n"
   ]
  },
  {
   "cell_type": "code",
   "execution_count": null,
   "id": "f443488c",
   "metadata": {},
   "outputs": [],
   "source": [
    "\n",
    "# Summary statistics\n",
    "summary = df.describe(include='all')\n",
    "\n",
    "# Correlation matrix\n",
    "corr_matrix = df[['planned_duration_days', 'actual_duration_days', 'planned_budget', 'actual_cost', 'team_size', 'stakeholder_satisfaction', 'success']].corr()\n",
    "\n",
    "summary, corr_matrix\n"
   ]
  },
  {
   "cell_type": "code",
   "execution_count": null,
   "id": "f1237fb0",
   "metadata": {},
   "outputs": [],
   "source": [
    "\n",
    "# Plot distributions of planned vs actual durations\n",
    "plt.figure(figsize=(10,5))\n",
    "sns.histplot(df['planned_duration_days'], color='skyblue', label='Planned', kde=True)\n",
    "sns.histplot(df['actual_duration_days'], color='salmon', label='Actual', kde=True)\n",
    "plt.title('Distribution of Planned vs. Actual Duration (days)')\n",
    "plt.xlabel('Days')\n",
    "plt.legend()\n",
    "plt.show()\n",
    "\n",
    "# Plot budgets vs actual costs\n",
    "plt.figure(figsize=(10,5))\n",
    "sns.scatterplot(data=df, x='planned_budget', y='actual_cost', hue='success')\n",
    "plt.title('Planned Budget vs. Actual Cost')\n",
    "plt.xlabel('Planned Budget')\n",
    "plt.ylabel('Actual Cost')\n",
    "plt.show()\n",
    "\n",
    "# Correlation heatmap\n",
    "plt.figure(figsize=(8,6))\n",
    "sns.heatmap(corr_matrix, annot=True, cmap='coolwarm')\n",
    "plt.title('Correlation Heatmap')\n",
    "plt.show()\n"
   ]
  },
  {
   "cell_type": "code",
   "execution_count": null,
   "id": "8d9da823",
   "metadata": {},
   "outputs": [],
   "source": [
    "\n",
    "# Prepare features and target\n",
    "a= df[['planned_duration_days', 'actual_duration_days', 'planned_budget', 'actual_cost', 'team_size', 'stakeholder_satisfaction']]\n",
    "y = df['success']\n",
    "\n",
    "# Train-test split\n",
    "X_train, X_test, y_train, y_test = train_test_split(a, y, test_size=0.3, random_state=42, stratify=y)\n",
    "\n",
    "# Standardize features\n",
    "scaler = StandardScaler()\n",
    "X_train_scaled = scaler.fit_transform(X_train)\n",
    "X_test_scaled = scaler.transform(X_test)\n",
    "\n",
    "# Logistic regression model\n",
    "log_reg = LogisticRegression()\n",
    "log_reg.fit(X_train_scaled, y_train)\n",
    "\n",
    "# Predictions\n",
    "y_pred = log_reg.predict(X_test_scaled)\n",
    "\n",
    "# Evaluation\n",
    "acc = accuracy_score(y_test, y_pred)\n",
    "report = classification_report(y_test, y_pred)\n",
    "conf_matrix = confusion_matrix(y_test, y_pred)\n",
    "\n",
    "acc, report, conf_matrix\n"
   ]
  }
 ],
 "metadata": {},
 "nbformat": 4,
 "nbformat_minor": 5
}
